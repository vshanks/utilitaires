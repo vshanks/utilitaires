{
 "cells": [
  {
   "cell_type": "code",
   "execution_count": 161,
   "metadata": {},
   "outputs": [],
   "source": [
    "import pandas as pd\n",
    "from ast import literal_eval\n",
    "import numpy as np\n",
    "from sklearn.decomposition import PCA\n",
    "from argparse import ArgumentParser\n",
    "import yaml\n",
    "\n",
    "with open(\"config.yaml\", 'r') as f:\n",
    "    try:\n",
    "        config = yaml.safe_load(f)\n",
    "    except:\n",
    "        print(\"Could not load yaml config\")\n",
    "        exit()\n",
    "\n",
    "\n",
    "def scale_value(val, minval, maxval):\n",
    "    return((((val - minval)/(maxval-minval)) * (255-0)) + 0)\n",
    "\n",
    "def rgb_to_int(rgb, current_min, current_max):\n",
    "    # Scale the values first\n",
    "    scaled_rgb_0 = scale_value(rgb[0], current_min[0], current_max[0])\n",
    "    scaled_rgb_1 = scale_value(rgb[1], current_min[1], current_max[1])\n",
    "    scaled_rgb_2 = scale_value(rgb[2], current_min[2], current_max[2])\n",
    "    return(int(scaled_rgb_0), int(scaled_rgb_1), int(scaled_rgb_2))\n",
    "\n",
    "def create_viz_column(list_feat_scores, compressed_feat, lines):\n",
    "    pca_model = compressed_feat.get('model')\n",
    "    current_min = compressed_feat.get('min') \n",
    "    current_max = compressed_feat.get('max')\n",
    "    list_df = convert_list_to_df(list_feat_scores)\n",
    "    exp_cols = compressed_feat.get('exp_cols')\n",
    "    list_df = pd.concat([list_df, pd.DataFrame([[0] * len(exp_cols)]*(int(config.get('last_n'))-len(list_df)), columns=exp_cols)], sort=False, axis=0, ignore_index=True)\n",
    "    list_df.fillna(0.0, inplace=True)\n",
    "    rgb_val_col = [rgb_to_int(rgb, current_min, current_max) for rgb in pca_model.transform(list_df)]\n",
    "    return(rgb_val_col)\n",
    "\n",
    "def convert_list_to_df(x):\n",
    "    x = literal_eval(x)\n",
    "    x_df = pd.DataFrame(x)\n",
    "    x_df.fillna(0.0, inplace=True)\n",
    "    x_df.reset_index(drop=True, inplace=True)\n",
    "    return(x_df)\n",
    "\n",
    "\n",
    "def compress_for_visualization(pd_series):\n",
    "    all_feat_df = pd.concat([convert_list_to_df(feat_list) for feat_list in pd_series], sort=False, axis=0, ignore_index=True)\n",
    "    all_feat_df.fillna(0.0, inplace=True)\n",
    "    pca = PCA(n_components=3)\n",
    "    pca_model = pca.fit(all_feat_df)\n",
    "    transform_all_feat_fit = pca_model.transform(all_feat_df)\n",
    "    current_min = transform_all_feat_fit.min(0)\n",
    "    current_max = transform_all_feat_fit.max(0)\n",
    "    pca_model_desc = []\n",
    "    pca_model_desc.append(\"Variance explained: {}\".format(pca_model.explained_variance_ratio_*100))\n",
    "    \n",
    "    pca_model_desc.append(\"Highest weighted component for R: {}\".format(list(all_feat_df.columns[np.argsort(-pca_model.components_[0])][0:2]))) \n",
    "    pca_model_desc.append(\"Highest weighted component for G: {}\".format(list(all_feat_df.columns[np.argsort(-pca_model.components_[1])][0:2]))) \n",
    "    pca_model_desc.append(\"Highest weighted component for B: {}\".format(list(all_feat_df.columns[np.argsort(-pca_model.components_[2])][0:2]))) \n",
    "    pca_model_desc = '\\n'.join(pca_model_desc)\n",
    "    return({'model':pca_model, 'min':current_min, 'max':current_max, 'exp_cols':all_feat_df.columns, 'model_desc':pca_model_desc})\n",
    "    \n",
    "\n",
    "def print_rgb_line(pd_series, b):\n",
    "    lines = pd_series.iloc[0].split('\\n')\n",
    "    scores = b[:,0,:]\n",
    "    print(lines)\n",
    "    print(\"LENS: {}, LENL: {}\".format(len(scores), len(lines)))\n",
    "    for i in range(0, len(lines)):\n",
    "        print(\"{} \\t {}\".format(lines[i], scores[i]))\n",
    "\n",
    "\n",
    "def get_viz_matrix(item_to_track, input_file, method):\n",
    "    test_output = pd.read_csv(input_file)\n",
    "    feat_column = 'feature1'\n",
    "    lines_column = 'numlines'\n",
    "    if method=='m':\n",
    "        feat_column = 'feature1_alternative'\n",
    "        lines_column = 'numlines_alternative'\n",
    "    test_output = test_output[test_output['item']==item_to_track]\n",
    "    test_output.sort_values(by=['date'], inplace=True)\n",
    "    \n",
    "    compressed_feat = compress_for_visualization(test_output[feat_column])\n",
    "    \n",
    "    # Create matrix for visualization now\n",
    "    a = [create_viz_column(test_output[feat_column].iloc[idx], compressed_feat, test_output[lines_column].iloc[idx]) for idx in range(0, test_output.shape[0])]\n",
    "    # print(np.asarray(a).shape)\n",
    "    b = np.transpose(a, (1, 0, 2))\n",
    "    # print(b.shape)\n",
    "    # print_rgb_line(test_output[lines_column], b)\n",
    "    print(compressed_feat.get('model_desc'))\n",
    "    return(b)\n"
   ]
  },
  {
   "cell_type": "code",
   "execution_count": 162,
   "metadata": {},
   "outputs": [
    {
     "name": "stdout",
     "output_type": "stream",
     "text": [
      "Variance explained: [9.98371360e+01 1.42472827e-01 8.36186296e-03]\n",
      "Highest weighted component for R: ['analytic', 'clout']\n",
      "Highest weighted component for G: ['wc', 'wps']\n",
      "Highest weighted component for B: ['wc', 'dic']\n"
     ]
    }
   ],
   "source": [
    "viz_mat = get_viz_matrix(\"puppytails\", \"test_output.csv\", 'm')"
   ]
  },
  {
   "cell_type": "code",
   "execution_count": 130,
   "metadata": {},
   "outputs": [
    {
     "data": {
      "image/png": "[encoded data removed]",
      "text/plain": [
       "<Figure size 432x288 with 1 Axes>"
      ]
     },
     "metadata": {
      "needs_background": "light"
     },
     "output_type": "display_data"
    }
   ],
   "source": [
    "import matplotlib.pyplot as plt\n",
    "plt.imshow(b,aspect='auto')\n",
    "plt.xticks(np.arange(b.shape[1]))\n",
    "plt.yticks(np.arange(b.shape[0]))\n",
    "plt.show()"
   ]
  },
  {
   "cell_type": "code",
   "execution_count": 164,
   "metadata": {},
   "outputs": [
    {
     "data": {
      "image/png": "[encoded data removed]",
      "text/plain": [
       "<Figure size 432x288 with 1 Axes>"
      ]
     },
     "metadata": {
      "needs_background": "light"
     },
     "output_type": "display_data"
    }
   ],
   "source": [
    "import matplotlib.pyplot as plt\n",
    "plt.imshow(viz_mat,aspect='auto')\n",
    "plt.xticks(np.arange(b.shape[1]))\n",
    "plt.yticks(np.arange(b.shape[0]))\n",
    "plt.show()"
   ]
  },
  {
   "cell_type": "code",
   "execution_count": 174,
   "metadata": {},
   "outputs": [],
   "source": [
    "# Print viz mat for all items\n",
    "file_input = \"item_viz_2019-04-16_21_06_28.csv\"\n",
    "viz_matrices = pd.read_csv(file_input)\n"
   ]
  },
  {
   "cell_type": "code",
   "execution_count": 1,
   "metadata": {
    "collapsed": true
   },
   "outputs": [
    {
     "ename": "NameError",
     "evalue": "name 'plt' is not defined",
     "output_type": "error",
     "traceback": [
      "\u001b[0;31m---------------------------------------------------------------------------\u001b[0m",
      "\u001b[0;31mNameError\u001b[0m                                 Traceback (most recent call last)",
      "\u001b[0;32m<ipython-input-1-a68374ab8f5e>\u001b[0m in \u001b[0;36m<module>\u001b[0;34m\u001b[0m\n\u001b[1;32m      1\u001b[0m \u001b[0mw\u001b[0m \u001b[0;34m=\u001b[0m \u001b[0;36m10\u001b[0m\u001b[0;34m\u001b[0m\u001b[0m\n\u001b[1;32m      2\u001b[0m \u001b[0mh\u001b[0m \u001b[0;34m=\u001b[0m \u001b[0;36m10\u001b[0m\u001b[0;34m\u001b[0m\u001b[0m\n\u001b[0;32m----> 3\u001b[0;31m \u001b[0mfig\u001b[0m \u001b[0;34m=\u001b[0m \u001b[0mplt\u001b[0m\u001b[0;34m.\u001b[0m\u001b[0mfigure\u001b[0m\u001b[0;34m(\u001b[0m\u001b[0mfigsize\u001b[0m\u001b[0;34m=\u001b[0m\u001b[0;34m(\u001b[0m\u001b[0;36m20\u001b[0m\u001b[0;34m,\u001b[0m \u001b[0;36m20\u001b[0m\u001b[0;34m)\u001b[0m\u001b[0;34m)\u001b[0m\u001b[0;34m\u001b[0m\u001b[0m\n\u001b[0m\u001b[1;32m      4\u001b[0m \u001b[0mcolumns\u001b[0m \u001b[0;34m=\u001b[0m \u001b[0;36m4\u001b[0m\u001b[0;34m\u001b[0m\u001b[0m\n\u001b[1;32m      5\u001b[0m \u001b[0mrows\u001b[0m \u001b[0;34m=\u001b[0m \u001b[0;36m5\u001b[0m\u001b[0;34m\u001b[0m\u001b[0m\n",
      "\u001b[0;31mNameError\u001b[0m: name 'plt' is not defined"
     ]
    }
   ],
   "source": [
    "w = 10\n",
    "h = 10\n",
    "fig = plt.figure(figsize=(20, 20))\n",
    "columns = 4\n",
    "rows = 5\n",
    "\n",
    "# ax enables access to manipulate each of subplots\n",
    "ax = []\n",
    "for i in range(columns*rows):\n",
    "    img = np.load(viz_matrices['viz_mat_fn'].iloc[i-1])\n",
    "    # create subplot and append to ax\n",
    "    ax.append( fig.add_subplot(rows, columns, i+1) )\n",
    "    ax[-1].set_title(viz_matrices['item'].iloc[i-1])  # set title\n",
    "    plt.imshow(img)\n",
    "\n",
    "plt.show()  # finally, render the plot"
   ]
  },
  {
   "cell_type": "code",
   "execution_count": null,
   "metadata": {},
   "outputs": [],
   "source": []
  }
 ],
 "metadata": {
  "kernelspec": {
   "display_name": "Python 3",
   "language": "python",
   "name": "python3"
  },
  "language_info": {
   "codemirror_mode": {
    "name": "ipython",
    "version": 3
   },
   "file_extension": ".py",
   "mimetype": "text/x-python",
   "name": "python",
   "nbconvert_exporter": "python",
   "pygments_lexer": "ipython3",
   "version": "3.7.0"
  }
 },
 "nbformat": 4,
 "nbformat_minor": 2
}
